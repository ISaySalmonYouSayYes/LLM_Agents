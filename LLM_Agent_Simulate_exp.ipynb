{
  "nbformat": 4,
  "nbformat_minor": 0,
  "metadata": {
    "colab": {
      "provenance": [],
      "authorship_tag": "ABX9TyPvv1xF47rrtLn9OChoG1RY",
      "include_colab_link": true
    },
    "kernelspec": {
      "name": "python3",
      "display_name": "Python 3"
    },
    "language_info": {
      "name": "python"
    }
  },
  "cells": [
    {
      "cell_type": "markdown",
      "metadata": {
        "id": "view-in-github",
        "colab_type": "text"
      },
      "source": [
        "<a href=\"https://colab.research.google.com/github/ISaySalmonYouSayYes/LLM_Agents/blob/main/LLM_Agent_Simulate_exp.ipynb\" target=\"_parent\"><img src=\"https://colab.research.google.com/assets/colab-badge.svg\" alt=\"Open In Colab\"/></a>"
      ]
    },
    {
      "cell_type": "markdown",
      "source": [
        "# **0. Before you start**  \n",
        "- This is a corner rewriting the methods for easy-access."
      ],
      "metadata": {
        "id": "mLuZ4f4xaX5h"
      }
    },
    {
      "cell_type": "code",
      "execution_count": null,
      "metadata": {
        "id": "UiGADgqrXT02"
      },
      "outputs": [],
      "source": [
        "import os\n",
        "\n",
        "try:\n",
        "    from google.colab import drive, userdata\n",
        "    COLAB = True\n",
        "    print(\"Note: using Google CoLab\")\n",
        "except:\n",
        "    print(\"Note: not using Google CoLab\")\n",
        "    COLAB = False\n",
        "\n",
        "# OpenAI Secrets\n",
        "if COLAB:\n",
        "    os.environ[\"OPENAI_API_KEY\"] = userdata.get('openAI_Key')\n",
        "\n",
        "# Install needed libraries in CoLab\n",
        "if COLAB:\n",
        "    !pip install langchain langchain_openai\n",
        "    !pip install langgraph"
      ]
    },
    {
      "cell_type": "markdown",
      "source": [
        "# **1. gpt_structure.py**  \n",
        "- Not yet down"
      ],
      "metadata": {
        "id": "EpfHIbuCau-i"
      }
    },
    {
      "cell_type": "code",
      "source": [
        "import time\n",
        "import random\n",
        "\n",
        "from langchain_openai import ChatOpenAI\n",
        "from langchain_core.messages import HumanMessage, SystemMessage, AIMessage\n",
        "from langchain_core.prompts.chat import PromptTemplate\n",
        "\n",
        "def temp_sleep(seconds=0.1):\n",
        "  \"\"\"\n",
        "  Simulate the realistic delay\n",
        "  \"\"\"\n",
        "  time.sleep(seconds)\n",
        "\n",
        "def GPT4_request(prompt:str):\n",
        "  \"\"\"\n",
        "  Given a prompt, make a request to OpenAI server and returns the response.\n",
        "  ARGS:\n",
        "    prompt: a str prompt\n",
        "  RETURNS:\n",
        "    a str of GPT-4's response.\n",
        "  \"\"\"\n",
        "  MODEL = 'gpt-4o-mini'\n",
        "  messages = [\n",
        "    SystemMessage(content=\"user\"),\n",
        "    HumanMessage(content= prompt),\n",
        "    ]\n",
        "\n",
        "  llm = ChatOpenAI(\n",
        "    model=MODEL,\n",
        "    temperature= 0.0,\n",
        "    n= 1,\n",
        "    max_tokens= 256)\n",
        "\n",
        "  return llm.invoke(messages).content\n",
        "\n",
        "#Debug ---- remove content in return line to see metadata\n",
        "# print(GPT4_request(\"Hiii, what is your name?\"))"
      ],
      "metadata": {
        "id": "qg3SEvhtXUdl"
      },
      "execution_count": 9,
      "outputs": []
    },
    {
      "cell_type": "code",
      "source": [
        "print(GPT4_request(\"Hiii, what is your name?\"))"
      ],
      "metadata": {
        "colab": {
          "base_uri": "https://localhost:8080/"
        },
        "id": "Bx2seuJ9Z11n",
        "outputId": "058e90c2-1bba-4d09-a229-2cda9fae22ac"
      },
      "execution_count": 10,
      "outputs": [
        {
          "output_type": "stream",
          "name": "stdout",
          "text": [
            "Hi there! I'm an AI language model and I don't have a personal name, but you can call me Assistant. How can I help you today?\n"
          ]
        }
      ]
    }
  ]
}